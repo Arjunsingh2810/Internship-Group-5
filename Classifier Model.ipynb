{
 "cells": [
  {
   "cell_type": "code",
   "execution_count": null,
   "id": "3f30d2c8",
   "metadata": {},
   "outputs": [],
   "source": [
    "import keras #M.L.\n",
    "import numpy as np #Mathematics\n",
    "from parser import load_data #Data Loading"
   ]
  },
  {
   "cell_type": "code",
   "execution_count": null,
   "id": "d34ca1a6",
   "metadata": {},
   "outputs": [],
   "source": [
    "#Collecting data\n",
    "training_data = load_data('data/training')\n",
    "validation_data = load_data('data/validation')"
   ]
  },
  {
   "cell_type": "code",
   "execution_count": null,
   "id": "04c66722",
   "metadata": {},
   "outputs": [],
   "source": [
    "#Building the Model\n",
    "model = Sequential()\n",
    "model.add(Convolution2D(32,3,3, input_shape=(img_width, img_height, 3)))\n",
    "model.add(Activation('relu'))\n",
    "model.add(MaxPooling2D(pool_size=(2,2)))\n",
    "\n",
    "model.add(Convolution2D(32,3,3, input_shape=(img_width, img_height, 3)))\n",
    "model.add(Activation('relu'))\n",
    "model.add(MaxPooling2D(pool_size=(2,2)))\n",
    "\n",
    "model.add(Convolution2D(32,3,3, input_shape=(img_width, img_height, 3)))\n",
    "model.add(Activation('relu'))\n",
    "model.add(MaxPooling2D(pool_size=(2,2)))\n",
    "\n",
    "model.add(Flatten())\n",
    "model.add(Dense(64))\n",
    "model.add(Ativation('relu'))"
   ]
  }
 ],
 "metadata": {
  "kernelspec": {
   "display_name": "Python 3 (ipykernel)",
   "language": "python",
   "name": "python3"
  },
  "language_info": {
   "codemirror_mode": {
    "name": "ipython",
    "version": 3
   },
   "file_extension": ".py",
   "mimetype": "text/x-python",
   "name": "python",
   "nbconvert_exporter": "python",
   "pygments_lexer": "ipython3",
   "version": "3.9.7"
  }
 },
 "nbformat": 4,
 "nbformat_minor": 5
}
